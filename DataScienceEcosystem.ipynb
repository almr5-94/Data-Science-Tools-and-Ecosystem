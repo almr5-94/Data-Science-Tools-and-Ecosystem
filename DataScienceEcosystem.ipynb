{
 "cells": [
  {
   "cell_type": "markdown",
   "id": "ef34dffd-4b44-40ad-a48f-b473f6c94aec",
   "metadata": {},
   "source": [
    "# Data Science Tools and Ecosystem"
   ]
  },
  {
   "cell_type": "markdown",
   "id": "fa60c7d0-ed75-40eb-bd0e-5c80b65d985c",
   "metadata": {},
   "source": [
    "### In this notebook, Data Science Tools and Ecosystem are summarized."
   ]
  },
  {
   "cell_type": "markdown",
   "id": "3018053c-80b3-4437-b9f3-3b1522894cc1",
   "metadata": {
    "jp-MarkdownHeadingCollapsed": true,
    "tags": []
   },
   "source": [
    "**objectives:**\n",
    "\n",
    "\n",
    "**. List popular languages for Data Science**\n",
    "\n",
    "\n",
    "**. Solve a mathematical problem**\n",
    "\n",
    "\n",
    "**. Convert minutes to hours**"
   ]
  },
  {
   "cell_type": "markdown",
   "id": "6d8d6846-dbe3-4a5c-90d2-5079254a5d29",
   "metadata": {
    "tags": []
   },
   "source": [
    "#### Some of the popular languages that Data Scientists use are:\n",
    "- python\n",
    "- java script\n",
    "- R"
   ]
  },
  {
   "cell_type": "markdown",
   "id": "2731dfb3-3862-4c93-bdc5-cfafa04356ac",
   "metadata": {},
   "source": [
    "|Data Science Tools|\n",
    "|------------------|\n",
    "|VS code|\n",
    "|Gitlab|\n",
    "|IBM data asset exchange|\n"
   ]
  },
  {
   "cell_type": "markdown",
   "id": "897fc986-95f6-4c78-8840-3014551f3755",
   "metadata": {},
   "source": [
    "### Below are a few examples of evaluating arithmetic expressions in Python"
   ]
  },
  {
   "cell_type": "code",
   "execution_count": 2,
   "id": "6dc22936-1ee7-47f5-b20c-efbc17ab24c4",
   "metadata": {
    "tags": []
   },
   "outputs": [
    {
     "data": {
      "text/plain": [
       "17"
      ]
     },
     "execution_count": 2,
     "metadata": {},
     "output_type": "execute_result"
    }
   ],
   "source": [
    "# This a simple arithmetic expression to mutiply then add integers\n",
    "(3*4)+5\n"
   ]
  },
  {
   "cell_type": "code",
   "execution_count": 1,
   "id": "62f34db6-b6bb-4b1d-8517-2c5daf2c3d05",
   "metadata": {
    "tags": []
   },
   "outputs": [
    {
     "name": "stdout",
     "output_type": "stream",
     "text": [
      "200 minutes are equal to 3.3333333333333335 hours\n"
     ]
    }
   ],
   "source": [
    "#creating a function to convert minutes to hours\n",
    "def minutes_to_hours(minutes):\n",
    "    hours=minutes/60\n",
    "    return hours\n",
    "# applying the function\n",
    "minutes=200\n",
    "hours= minutes_to_hours(minutes)\n",
    "print(f\"{minutes} minutes are equal to {hours} hours\")\n"
   ]
  },
  {
   "cell_type": "code",
   "execution_count": 7,
   "id": "f75eae8a-7bc2-40db-9bd4-5aabc5695e9c",
   "metadata": {
    "tags": []
   },
   "outputs": [
    {
     "name": "stdout",
     "output_type": "stream",
     "text": [
      "200 minutes is equal to 3.3333333333333335 hours.\n"
     ]
    }
   ],
   "source": [
    "def hours(minutes):\n",
    "    hour=minutes/60\n",
    "    return hour\n",
    "minutes= 200\n",
    "in_hours=hours(minutes)\n",
    "print(f\"{minutes} minutes is equal to {in_hours} hours.\")"
   ]
  },
  {
   "cell_type": "markdown",
   "id": "d481f6e2-4a8d-4f36-b3e2-14dad4d7e9c6",
   "metadata": {},
   "source": [
    "## Authr\n",
    "Abdallah Almuteiri"
   ]
  },
  {
   "cell_type": "code",
   "execution_count": null,
   "id": "212e54fe-4c90-4291-9219-997a8ae87ee7",
   "metadata": {},
   "outputs": [],
   "source": []
  }
 ],
 "metadata": {
  "kernelspec": {
   "display_name": "Python",
   "language": "python",
   "name": "conda-env-python-py"
  },
  "language_info": {
   "codemirror_mode": {
    "name": "ipython",
    "version": 3
   },
   "file_extension": ".py",
   "mimetype": "text/x-python",
   "name": "python",
   "nbconvert_exporter": "python",
   "pygments_lexer": "ipython3",
   "version": "3.7.12"
  }
 },
 "nbformat": 4,
 "nbformat_minor": 5
}
